{
 "cells": [
  {
   "cell_type": "markdown",
   "metadata": {},
   "source": [
    "~ Enkapsulasi(pembungkusan) : informasi yang disembunyikan (method \n",
    "  dan property) .\n",
    "  Method dan proterty bersifat private.\n",
    "  Isi dari kapsul = private, public, method, property\n",
    "  public = karna bisa diakses di luar(formatnya menggunakan +) \n",
    "  Private = karna tidak bisa diakses di luar kelas( menggunakan format ___)\n"
   ]
  },
  {
   "cell_type": "code",
   "execution_count": null,
   "metadata": {},
   "outputs": [],
   "source": [
    "class lingkaran:\n",
    "    __jarijari = 0\n",
    "    __nama = \"\"\n",
    "    def __init__(self):\n",
    "        self.__jarijari = 4\n",
    "    def __updatejarijari(self):\n",
    "        print(\"ubahlah jari jari di luar class\")\n",
    "    def tampilkanjari(self):\n",
    "        print(\"jari jari=\",self.__jarijari)\n",
    "    def luaslingkaran(self):\n",
    "        p=3.14\n",
    "        luas=p*self.__jarijari**2\n",
    "        print(\"Luas lingkaran=\",luas)\n",
    "    def setjarijari(self,jari):\n",
    "        self.__jarijari = jari\n",
    "\n",
    "        \n",
    "        \n",
    "\n",
    "\n",
    "print(\"nomr 1\")\n",
    "lingkaran=lingkaran()\n",
    "lingkaran.tampilkanjari()\n",
    "lingkaran.setjarijari(12)\n",
    "lingkaran._lingkaran__updatejarijari()\n",
    "lingkaran.luaslingkaran()\n",
    "\n"
   ]
  }
 ],
 "metadata": {
  "kernelspec": {
   "display_name": "Python 3",
   "language": "python",
   "name": "python3"
  },
  "language_info": {
   "codemirror_mode": {
    "name": "ipython",
    "version": 3
   },
   "file_extension": ".py",
   "mimetype": "text/x-python",
   "name": "python",
   "nbconvert_exporter": "python",
   "pygments_lexer": "ipython3",
   "version": "3.6.5"
  }
 },
 "nbformat": 4,
 "nbformat_minor": 2
}
