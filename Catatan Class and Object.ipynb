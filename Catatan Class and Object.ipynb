{
 "cells": [
  {
   "cell_type": "markdown",
   "metadata": {},
   "source": [
    "~ Method ialah suatu tindakan yang dikerjakan didalam class\n",
    "\n",
    "~ Class adalah keadaan dan kelakuan yang akan diturunkan oleh\n",
    "             object tersebut.\n",
    "  Class bukan object tapi dia yang membuat object\n",
    "\n",
    "~ Object adalah variabel yang merupakan instance dari Class.\n",
    "~ Method adalah function yang terletak didalam class"
   ]
  },
  {
   "cell_type": "code",
   "execution_count": null,
   "metadata": {},
   "outputs": [],
   "source": [
    "class kubus():\n",
    "    def __init__(self,s): \n",
    "        self.sisi = s\n",
    "    def tampilkansisi(self): \n",
    "        print (self.sisi)\n",
    "    def luas(self):\n",
    "        print (\"Luas= \", self.sisi**2)\n",
    "    def volume(self):\n",
    "        print (\"Volume= \", self.sisi**3)\n",
    "    def lp(self):\n",
    "       print (\"Luas Permukaan= \", self.sisi**2*6)\n",
    "kubus1 = kubus(4)\n",
    "kubus1.tampilkansisi() \n",
    "kubus1.luas()\n",
    "kubus1.volume()\n",
    "kubus1.lp()\n"
   ]
  },
  {
   "cell_type": "code",
   "execution_count": null,
   "metadata": {},
   "outputs": [],
   "source": [
    "class Mhs():  \n",
    "    def __init__(self,na,nm,ip):\n",
    "        self.na = na\n",
    "        self.nm = nm\n",
    "        self.ip = ip\n",
    "    def tampilkanmhs(self):\n",
    "        print (self.na,\",\",self.nm,\",\",self.ip)\n",
    "    def predikat(self):\n",
    "        if self.ip >= 3.5:\n",
    "            print (\"Cumlaude\")\n",
    "        elif self.ip > 3 and self.ip < 3.5:\n",
    "            print (\"Sangat Memuaskan\")\n",
    "        elif self.ip > 2.5 and self.ip < 3:\n",
    "            print (\"Memuaskan\")\n",
    "        else:\n",
    "            print (\"Cukup\")\n",
    "Mhs1 = Mhs(\"teguh\",\"020\",3.50) \n",
    "Mhs1.tampilkanmhs()\n",
    "Mhs1.predikat()"
   ]
  },
  {
   "cell_type": "code",
   "execution_count": null,
   "metadata": {},
   "outputs": [],
   "source": [
    "class Nasabah():\n",
    "    def __init__(self,nonas,nama,norek):\n",
    "        self.nonas = nonas\n",
    "        self.nama  = nama\n",
    "        self.norek = norek\n",
    "    def tampilkannas(self):\n",
    "        print(self.nonas,\",\",self.nama,\",\",self.norek)\n",
    "        \n",
    "class Rekening():\n",
    "    def __init__(self,norek,saldo):\n",
    "        self.norek = norek\n",
    "        self.saldo = saldo\n",
    "    def tampilkanrek(self):\n",
    "        print(self.norek,\",\",self.saldo)\n",
    "    def ambiluang(self,jumlah):\n",
    "        self.saldo -= jumlah\n",
    "    def setoruang(self,jumlah):\n",
    "        self.saldo += jumlah\n",
    "    def ceksaldo(self):\n",
    "        print (\"Sisa Uang= \", self.saldo)\n",
    "        \n",
    "Nas = Nasabah(\"020\",\"teguh\",\"11234\")\n",
    "Nas.tampilkannas()\n",
    "norek = Nas.norek\n",
    "rekening = Rekening(norek,300000)\n",
    "rekening.ambiluang(100000)\n",
    "rekening.setoruang(50000)\n",
    "rekening.ceksaldo()\n"
   ]
  }
 ],
 "metadata": {
  "kernelspec": {
   "display_name": "Python 3",
   "language": "python",
   "name": "python3"
  },
  "language_info": {
   "codemirror_mode": {
    "name": "ipython",
    "version": 3
   },
   "file_extension": ".py",
   "mimetype": "text/x-python",
   "name": "python",
   "nbconvert_exporter": "python",
   "pygments_lexer": "ipython3",
   "version": "3.6.5"
  }
 },
 "nbformat": 4,
 "nbformat_minor": 2
}
