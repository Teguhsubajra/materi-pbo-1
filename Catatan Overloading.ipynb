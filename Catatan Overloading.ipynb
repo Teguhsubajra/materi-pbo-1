{
 "cells": [
  {
   "cell_type": "markdown",
   "metadata": {},
   "source": [
    "> Method Overloading adalah function yg dapat memiliki nama function yang sama dengan yang lainnya \n",
    "  dengan syarat jumlah parameter selalu berbeda\n",
    "> Method Overloading = sebuah method dengan multyple cara, boleh dengan beda\n",
    "  parameter atau beda dari function yg didefinisikan \n",
    "  Definisi secara singkatnya :\n",
    "        - Nama method boleh sama, tetapi jumlahparameter(isi) berbeda\n",
    "        - Nilai yang di return harus memiliki tipe yang sama\n",
    "        - dapat digunakan untuk inheritance\n",
    "        - method yang banya bentuk\n",
    "> Operator overloading merupakan penemoatan operatornya banyak tidak selalu \n",
    "  method. \n",
    "> Operator Overloading = untuk mendefinisikan spesial method, bisa digunakan \n",
    "  untuk mendefinisikan arti dari operatur tsb atau operator overloading bisa\n",
    "  menggunakan tanda + atau add\n",
    "> Operator Overloading = operator yang di overloading, bisa untuk ditambahkan \n",
    "  atau dikurangkan\n",
    "     misal + , dapat ditambah untuk bilangan integer atau menggabungkan string\n",
    "     python tidak mendukung overloading, tidak banyak digunakan pada python, supaya bisa dijalankan harus mengubah banya method menjadi satu(satu method tetapi pemanggilnya banyak)"
   ]
  },
  {
   "cell_type": "code",
   "execution_count": null,
   "metadata": {},
   "outputs": [],
   "source": [
    "#contoh overloading\n",
    "class Human:\n",
    "    def sayHello(self, name=None): \n",
    "        if name is not None: \n",
    "            print ('Hello' + name)\n",
    "        else:\n",
    "            print ('Hello ')\n",
    " \n",
    "# Create instance\n",
    "obj = Human()\n",
    "# Call the method\n",
    "obj.sayHello()\n",
    "# Call the method with a parameter\n",
    "obj.sayHello('Guido')"
   ]
  },
  {
   "cell_type": "code",
   "execution_count": null,
   "metadata": {},
   "outputs": [],
   "source": [
    "#contoh spesail method (operator overloading)\n",
    "\n",
    "class Fraction:\n",
    "    def __init__(self, top, bottom):\n",
    "        self.num = top\n",
    "        self.den = bottom\n",
    "    \n",
    "    def show(self):\n",
    "        print(self.num, \"/\",self.den)\n",
    "\n",
    "    def __str__(self): \n",
    "        return str(self.num) + \"/\" + str(self.den)\n",
    "    \n",
    "    def __add__(self, otherfraction):\n",
    "        newnum = self.num*otherfraction.den + self.den*otherfraction.num\n",
    "        newden = self.den*otherfraction.den\n",
    "        return Fraction(newnum,newden)\n",
    "\n",
    "fraction=Fraction(\"15\",\"25\")\n",
    "fraction.show()\n",
    "fraction.__str__()\n",
    "fraction.__add__(22,44)\n"
   ]
  }
 ],
 "metadata": {
  "kernelspec": {
   "display_name": "Python 3",
   "language": "python",
   "name": "python3"
  },
  "language_info": {
   "codemirror_mode": {
    "name": "ipython",
    "version": 3
   },
   "file_extension": ".py",
   "mimetype": "text/x-python",
   "name": "python",
   "nbconvert_exporter": "python",
   "pygments_lexer": "ipython3",
   "version": "3.6.5"
  }
 },
 "nbformat": 4,
 "nbformat_minor": 2
}
